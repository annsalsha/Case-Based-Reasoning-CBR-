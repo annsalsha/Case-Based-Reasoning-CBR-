{
  "nbformat": 4,
  "nbformat_minor": 0,
  "metadata": {
    "colab": {
      "provenance": []
    },
    "kernelspec": {
      "name": "python3",
      "display_name": "Python 3"
    },
    "language_info": {
      "name": "python"
    }
  },
  "cells": [
    {
      "cell_type": "markdown",
      "source": [
        "extract pdf with pdfminer"
      ],
      "metadata": {
        "id": "E6k0a2RxTloW"
      }
    },
    {
      "cell_type": "code",
      "execution_count": null,
      "metadata": {
        "id": "vvfQtiWOVLdw",
        "colab": {
          "base_uri": "https://localhost:8080/"
        },
        "outputId": "7fb3437f-6969-4f6b-9d6c-f7a2a14962dd",
        "collapsed": true
      },
      "outputs": [
        {
          "output_type": "stream",
          "name": "stdout",
          "text": [
            "Collecting pdfminer\n",
            "  Downloading pdfminer-20191125.tar.gz (4.2 MB)\n",
            "\u001b[?25l     \u001b[90m━━━━━━━━━━━━━━━━━━━━━━━━━━━━━━━━━━━━━━━━\u001b[0m \u001b[32m0.0/4.2 MB\u001b[0m \u001b[31m?\u001b[0m eta \u001b[36m-:--:--\u001b[0m\r\u001b[2K     \u001b[91m━━━━━━━━\u001b[0m\u001b[91m╸\u001b[0m\u001b[90m━━━━━━━━━━━━━━━━━━━━━━━━━━━━━━━\u001b[0m \u001b[32m0.9/4.2 MB\u001b[0m \u001b[31m27.5 MB/s\u001b[0m eta \u001b[36m0:00:01\u001b[0m\r\u001b[2K     \u001b[91m━━━━━━━━━━━━━━━━━━━━━━━━━━━━━━━━━━━━━━━\u001b[0m\u001b[91m╸\u001b[0m \u001b[32m4.2/4.2 MB\u001b[0m \u001b[31m77.0 MB/s\u001b[0m eta \u001b[36m0:00:01\u001b[0m\r\u001b[2K     \u001b[90m━━━━━━━━━━━━━━━━━━━━━━━━━━━━━━━━━━━━━━━━\u001b[0m \u001b[32m4.2/4.2 MB\u001b[0m \u001b[31m54.7 MB/s\u001b[0m eta \u001b[36m0:00:00\u001b[0m\n",
            "\u001b[?25h  Preparing metadata (setup.py) ... \u001b[?25l\u001b[?25hdone\n",
            "Collecting pycryptodome (from pdfminer)\n",
            "  Downloading pycryptodome-3.23.0-cp37-abi3-manylinux_2_17_x86_64.manylinux2014_x86_64.whl.metadata (3.4 kB)\n",
            "Downloading pycryptodome-3.23.0-cp37-abi3-manylinux_2_17_x86_64.manylinux2014_x86_64.whl (2.3 MB)\n",
            "\u001b[2K   \u001b[90m━━━━━━━━━━━━━━━━━━━━━━━━━━━━━━━━━━━━━━━━\u001b[0m \u001b[32m2.3/2.3 MB\u001b[0m \u001b[31m53.4 MB/s\u001b[0m eta \u001b[36m0:00:00\u001b[0m\n",
            "\u001b[?25hBuilding wheels for collected packages: pdfminer\n",
            "  Building wheel for pdfminer (setup.py) ... \u001b[?25l\u001b[?25hdone\n",
            "  Created wheel for pdfminer: filename=pdfminer-20191125-py3-none-any.whl size=6140082 sha256=90237f7415c629727e266294810c737874f9512619d1985c2be6f114c6b4f180\n",
            "  Stored in directory: /root/.cache/pip/wheels/56/24/93/05316c6df89ff210a9a705060277e3acbfd2d1bd3a5853ee19\n",
            "Successfully built pdfminer\n",
            "Installing collected packages: pycryptodome, pdfminer\n",
            "Successfully installed pdfminer-20191125 pycryptodome-3.23.0\n"
          ]
        }
      ],
      "source": [
        "pip install pdfminer"
      ]
    },
    {
      "cell_type": "code",
      "source": [
        "!pip install pdfminer.six"
      ],
      "metadata": {
        "colab": {
          "base_uri": "https://localhost:8080/"
        },
        "id": "xI1x_xpxrl9z",
        "outputId": "57465a2f-f173-4ea4-f318-88fcdc0af720",
        "collapsed": true
      },
      "execution_count": null,
      "outputs": [
        {
          "output_type": "stream",
          "name": "stdout",
          "text": [
            "Collecting pdfminer.six\n",
            "  Downloading pdfminer_six-20250506-py3-none-any.whl.metadata (4.2 kB)\n",
            "Requirement already satisfied: charset-normalizer>=2.0.0 in /usr/local/lib/python3.11/dist-packages (from pdfminer.six) (3.4.2)\n",
            "Requirement already satisfied: cryptography>=36.0.0 in /usr/local/lib/python3.11/dist-packages (from pdfminer.six) (43.0.3)\n",
            "Requirement already satisfied: cffi>=1.12 in /usr/local/lib/python3.11/dist-packages (from cryptography>=36.0.0->pdfminer.six) (1.17.1)\n",
            "Requirement already satisfied: pycparser in /usr/local/lib/python3.11/dist-packages (from cffi>=1.12->cryptography>=36.0.0->pdfminer.six) (2.22)\n",
            "Downloading pdfminer_six-20250506-py3-none-any.whl (5.6 MB)\n",
            "\u001b[?25l   \u001b[90m━━━━━━━━━━━━━━━━━━━━━━━━━━━━━━━━━━━━━━━━\u001b[0m \u001b[32m0.0/5.6 MB\u001b[0m \u001b[31m?\u001b[0m eta \u001b[36m-:--:--\u001b[0m\r\u001b[2K   \u001b[91m━━━━\u001b[0m\u001b[91m╸\u001b[0m\u001b[90m━━━━━━━━━━━━━━━━━━━━━━━━━━━━━━━━━━━\u001b[0m \u001b[32m0.6/5.6 MB\u001b[0m \u001b[31m19.5 MB/s\u001b[0m eta \u001b[36m0:00:01\u001b[0m\r\u001b[2K   \u001b[91m━━━━━━━━━━━━━━━━━━━━━━━━━━━━━━━━━━\u001b[0m\u001b[90m╺\u001b[0m\u001b[90m━━━━━\u001b[0m \u001b[32m4.8/5.6 MB\u001b[0m \u001b[31m65.7 MB/s\u001b[0m eta \u001b[36m0:00:01\u001b[0m\r\u001b[2K   \u001b[91m━━━━━━━━━━━━━━━━━━━━━━━━━━━━━━━━━━━━━━━\u001b[0m\u001b[91m╸\u001b[0m \u001b[32m5.6/5.6 MB\u001b[0m \u001b[31m68.2 MB/s\u001b[0m eta \u001b[36m0:00:01\u001b[0m\r\u001b[2K   \u001b[90m━━━━━━━━━━━━━━━━━━━━━━━━━━━━━━━━━━━━━━━━\u001b[0m \u001b[32m5.6/5.6 MB\u001b[0m \u001b[31m49.1 MB/s\u001b[0m eta \u001b[36m0:00:00\u001b[0m\n",
            "\u001b[?25hInstalling collected packages: pdfminer.six\n",
            "Successfully installed pdfminer.six-20250506\n"
          ]
        }
      ]
    },
    {
      "cell_type": "code",
      "source": [
        "from google.colab import files\n",
        "import os\n",
        "import shutil\n",
        "\n",
        "uploaded = files.upload()\n",
        "\n",
        "# Buat folder jika belum ada\n",
        "os.makedirs(\"data/pdf\", exist_ok=True)\n",
        "\n",
        "# Pindahkan file ke folder data/pdf\n",
        "for filename in uploaded.keys():\n",
        "    shutil.move(filename, f\"data/pdf/{filename}\")\n"
      ],
      "metadata": {
        "colab": {
          "base_uri": "https://localhost:8080/",
          "height": 1000
        },
        "id": "APf-mlF1rI04",
        "outputId": "1e58b21f-668a-44bf-af2b-49d4070bf8a1"
      },
      "execution_count": null,
      "outputs": [
        {
          "output_type": "display_data",
          "data": {
            "text/plain": [
              "<IPython.core.display.HTML object>"
            ],
            "text/html": [
              "\n",
              "     <input type=\"file\" id=\"files-47582915-3243-498a-b75b-6f214d7b0199\" name=\"files[]\" multiple disabled\n",
              "        style=\"border:none\" />\n",
              "     <output id=\"result-47582915-3243-498a-b75b-6f214d7b0199\">\n",
              "      Upload widget is only available when the cell has been executed in the\n",
              "      current browser session. Please rerun this cell to enable.\n",
              "      </output>\n",
              "      <script>// Copyright 2017 Google LLC\n",
              "//\n",
              "// Licensed under the Apache License, Version 2.0 (the \"License\");\n",
              "// you may not use this file except in compliance with the License.\n",
              "// You may obtain a copy of the License at\n",
              "//\n",
              "//      http://www.apache.org/licenses/LICENSE-2.0\n",
              "//\n",
              "// Unless required by applicable law or agreed to in writing, software\n",
              "// distributed under the License is distributed on an \"AS IS\" BASIS,\n",
              "// WITHOUT WARRANTIES OR CONDITIONS OF ANY KIND, either express or implied.\n",
              "// See the License for the specific language governing permissions and\n",
              "// limitations under the License.\n",
              "\n",
              "/**\n",
              " * @fileoverview Helpers for google.colab Python module.\n",
              " */\n",
              "(function(scope) {\n",
              "function span(text, styleAttributes = {}) {\n",
              "  const element = document.createElement('span');\n",
              "  element.textContent = text;\n",
              "  for (const key of Object.keys(styleAttributes)) {\n",
              "    element.style[key] = styleAttributes[key];\n",
              "  }\n",
              "  return element;\n",
              "}\n",
              "\n",
              "// Max number of bytes which will be uploaded at a time.\n",
              "const MAX_PAYLOAD_SIZE = 100 * 1024;\n",
              "\n",
              "function _uploadFiles(inputId, outputId) {\n",
              "  const steps = uploadFilesStep(inputId, outputId);\n",
              "  const outputElement = document.getElementById(outputId);\n",
              "  // Cache steps on the outputElement to make it available for the next call\n",
              "  // to uploadFilesContinue from Python.\n",
              "  outputElement.steps = steps;\n",
              "\n",
              "  return _uploadFilesContinue(outputId);\n",
              "}\n",
              "\n",
              "// This is roughly an async generator (not supported in the browser yet),\n",
              "// where there are multiple asynchronous steps and the Python side is going\n",
              "// to poll for completion of each step.\n",
              "// This uses a Promise to block the python side on completion of each step,\n",
              "// then passes the result of the previous step as the input to the next step.\n",
              "function _uploadFilesContinue(outputId) {\n",
              "  const outputElement = document.getElementById(outputId);\n",
              "  const steps = outputElement.steps;\n",
              "\n",
              "  const next = steps.next(outputElement.lastPromiseValue);\n",
              "  return Promise.resolve(next.value.promise).then((value) => {\n",
              "    // Cache the last promise value to make it available to the next\n",
              "    // step of the generator.\n",
              "    outputElement.lastPromiseValue = value;\n",
              "    return next.value.response;\n",
              "  });\n",
              "}\n",
              "\n",
              "/**\n",
              " * Generator function which is called between each async step of the upload\n",
              " * process.\n",
              " * @param {string} inputId Element ID of the input file picker element.\n",
              " * @param {string} outputId Element ID of the output display.\n",
              " * @return {!Iterable<!Object>} Iterable of next steps.\n",
              " */\n",
              "function* uploadFilesStep(inputId, outputId) {\n",
              "  const inputElement = document.getElementById(inputId);\n",
              "  inputElement.disabled = false;\n",
              "\n",
              "  const outputElement = document.getElementById(outputId);\n",
              "  outputElement.innerHTML = '';\n",
              "\n",
              "  const pickedPromise = new Promise((resolve) => {\n",
              "    inputElement.addEventListener('change', (e) => {\n",
              "      resolve(e.target.files);\n",
              "    });\n",
              "  });\n",
              "\n",
              "  const cancel = document.createElement('button');\n",
              "  inputElement.parentElement.appendChild(cancel);\n",
              "  cancel.textContent = 'Cancel upload';\n",
              "  const cancelPromise = new Promise((resolve) => {\n",
              "    cancel.onclick = () => {\n",
              "      resolve(null);\n",
              "    };\n",
              "  });\n",
              "\n",
              "  // Wait for the user to pick the files.\n",
              "  const files = yield {\n",
              "    promise: Promise.race([pickedPromise, cancelPromise]),\n",
              "    response: {\n",
              "      action: 'starting',\n",
              "    }\n",
              "  };\n",
              "\n",
              "  cancel.remove();\n",
              "\n",
              "  // Disable the input element since further picks are not allowed.\n",
              "  inputElement.disabled = true;\n",
              "\n",
              "  if (!files) {\n",
              "    return {\n",
              "      response: {\n",
              "        action: 'complete',\n",
              "      }\n",
              "    };\n",
              "  }\n",
              "\n",
              "  for (const file of files) {\n",
              "    const li = document.createElement('li');\n",
              "    li.append(span(file.name, {fontWeight: 'bold'}));\n",
              "    li.append(span(\n",
              "        `(${file.type || 'n/a'}) - ${file.size} bytes, ` +\n",
              "        `last modified: ${\n",
              "            file.lastModifiedDate ? file.lastModifiedDate.toLocaleDateString() :\n",
              "                                    'n/a'} - `));\n",
              "    const percent = span('0% done');\n",
              "    li.appendChild(percent);\n",
              "\n",
              "    outputElement.appendChild(li);\n",
              "\n",
              "    const fileDataPromise = new Promise((resolve) => {\n",
              "      const reader = new FileReader();\n",
              "      reader.onload = (e) => {\n",
              "        resolve(e.target.result);\n",
              "      };\n",
              "      reader.readAsArrayBuffer(file);\n",
              "    });\n",
              "    // Wait for the data to be ready.\n",
              "    let fileData = yield {\n",
              "      promise: fileDataPromise,\n",
              "      response: {\n",
              "        action: 'continue',\n",
              "      }\n",
              "    };\n",
              "\n",
              "    // Use a chunked sending to avoid message size limits. See b/62115660.\n",
              "    let position = 0;\n",
              "    do {\n",
              "      const length = Math.min(fileData.byteLength - position, MAX_PAYLOAD_SIZE);\n",
              "      const chunk = new Uint8Array(fileData, position, length);\n",
              "      position += length;\n",
              "\n",
              "      const base64 = btoa(String.fromCharCode.apply(null, chunk));\n",
              "      yield {\n",
              "        response: {\n",
              "          action: 'append',\n",
              "          file: file.name,\n",
              "          data: base64,\n",
              "        },\n",
              "      };\n",
              "\n",
              "      let percentDone = fileData.byteLength === 0 ?\n",
              "          100 :\n",
              "          Math.round((position / fileData.byteLength) * 100);\n",
              "      percent.textContent = `${percentDone}% done`;\n",
              "\n",
              "    } while (position < fileData.byteLength);\n",
              "  }\n",
              "\n",
              "  // All done.\n",
              "  yield {\n",
              "    response: {\n",
              "      action: 'complete',\n",
              "    }\n",
              "  };\n",
              "}\n",
              "\n",
              "scope.google = scope.google || {};\n",
              "scope.google.colab = scope.google.colab || {};\n",
              "scope.google.colab._files = {\n",
              "  _uploadFiles,\n",
              "  _uploadFilesContinue,\n",
              "};\n",
              "})(self);\n",
              "</script> "
            ]
          },
          "metadata": {}
        },
        {
          "output_type": "stream",
          "name": "stdout",
          "text": [
            "Saving putusan_2_pid.sus-tpk_2025_pn_sby_20250620125858.pdf to putusan_2_pid.sus-tpk_2025_pn_sby_20250620125858.pdf\n",
            "Saving putusan_3_pid.sus-tpk_2025_pn_sby_20250620125818.pdf to putusan_3_pid.sus-tpk_2025_pn_sby_20250620125818.pdf\n",
            "Saving putusan_5_pid.sus-tpk_2025_pn_sby_20250620125735.pdf to putusan_5_pid.sus-tpk_2025_pn_sby_20250620125735.pdf\n",
            "Saving putusan_7_pid.sus-tpk_2025_pn_sby_20250620125307.pdf to putusan_7_pid.sus-tpk_2025_pn_sby_20250620125307.pdf\n",
            "Saving putusan_8_pid.sus-tpk_2025_pn_sby_20250618143419.pdf to putusan_8_pid.sus-tpk_2025_pn_sby_20250618143419.pdf\n",
            "Saving putusan_9_pid.sus-tpk_2025_pn_sby_20250618142838.pdf to putusan_9_pid.sus-tpk_2025_pn_sby_20250618142838.pdf\n",
            "Saving putusan_12_pid.sus-tpk_2025_pn_sby_20250620125638.pdf to putusan_12_pid.sus-tpk_2025_pn_sby_20250620125638.pdf\n",
            "Saving putusan_14_pid.sus-tpk_2025_pn_sby_20250620125409.pdf to putusan_14_pid.sus-tpk_2025_pn_sby_20250620125409.pdf\n",
            "Saving putusan_15_pid.sus-tpk_2025_pn_sby_20250620125447.pdf to putusan_15_pid.sus-tpk_2025_pn_sby_20250620125447.pdf\n",
            "Saving putusan_26_pid.sus-tpk_2025_pn_sby_20250618142950.pdf to putusan_26_pid.sus-tpk_2025_pn_sby_20250618142950.pdf\n",
            "Saving putusan_42_pid.sus-tpk_2024_pn_sby_20250618145733.pdf to putusan_42_pid.sus-tpk_2024_pn_sby_20250618145733.pdf\n",
            "Saving putusan_42_pid.sus-tpk_2024_pn_sby_20250618145903.pdf to putusan_42_pid.sus-tpk_2024_pn_sby_20250618145903.pdf\n",
            "Saving putusan_65_pid.sus-tpk_2024_pn_sby_20250618153904.pdf to putusan_65_pid.sus-tpk_2024_pn_sby_20250618153904.pdf\n",
            "Saving putusan_65_pid.sus-tpk_2024_pn_sby_20250618153940.pdf to putusan_65_pid.sus-tpk_2024_pn_sby_20250618153940.pdf\n",
            "Saving putusan_71_pid.sus-tpk_2024_pn_sby_20250618153810.pdf to putusan_71_pid.sus-tpk_2024_pn_sby_20250618153810.pdf\n",
            "Saving putusan_72_pid.sus-tpk_2024_pn_sby_20250618152808.pdf to putusan_72_pid.sus-tpk_2024_pn_sby_20250618152808.pdf\n",
            "Saving putusan_82_pid.sus-tpk_2024_pn_sby_20250618153711.pdf to putusan_82_pid.sus-tpk_2024_pn_sby_20250618153711.pdf\n",
            "Saving putusan_83_pid.sus-tpk_2024_pn_sby_20250618152827.pdf to putusan_83_pid.sus-tpk_2024_pn_sby_20250618152827.pdf\n",
            "Saving putusan_86_pid.sus-tpk_2024_pn_sby_20250618152925.pdf to putusan_86_pid.sus-tpk_2024_pn_sby_20250618152925.pdf\n",
            "Saving putusan_87_pid.sus-tpk_2024_pn_sby_20250618152959.pdf to putusan_87_pid.sus-tpk_2024_pn_sby_20250618152959.pdf\n",
            "Saving putusan_90_pid.sus-tpk_2024_pn_sby_20250618150816.pdf to putusan_90_pid.sus-tpk_2024_pn_sby_20250618150816.pdf\n",
            "Saving putusan_92_pid.sus-tpk_2024_pn_sby_20250618152943.pdf to putusan_92_pid.sus-tpk_2024_pn_sby_20250618152943.pdf\n",
            "Saving putusan_99_pid.sus-tpk_2024_pn_sby_20250618150353.pdf to putusan_99_pid.sus-tpk_2024_pn_sby_20250618150353.pdf\n",
            "Saving putusan_107_pid.sus-tpk_2024_pn_sby_20250618150637.pdf to putusan_107_pid.sus-tpk_2024_pn_sby_20250618150637.pdf\n",
            "Saving putusan_109_pid.sus-tpk_2024_pn_sby_20250618145538.pdf to putusan_109_pid.sus-tpk_2024_pn_sby_20250618145538.pdf\n",
            "Saving putusan_111_pid.sus-tpk_2024_pn_sby_20250618152846.pdf to putusan_111_pid.sus-tpk_2024_pn_sby_20250618152846.pdf\n",
            "Saving putusan_113_pid.sus-tpk_2024_pn_sby_20250618152656.pdf to putusan_113_pid.sus-tpk_2024_pn_sby_20250618152656.pdf\n",
            "Saving putusan_136_pid.sus-tpk_2024_pn_sby_20250618145505.pdf to putusan_136_pid.sus-tpk_2024_pn_sby_20250618145505.pdf\n",
            "Saving putusan_140_pid.sus-tpk_2024_pn_sby_20250618142733.pdf to putusan_140_pid.sus-tpk_2024_pn_sby_20250618142733.pdf\n",
            "Saving putusan_140_pid.sus-tpk_2024_pn_sby_20250620125608.pdf to putusan_140_pid.sus-tpk_2024_pn_sby_20250620125608.pdf\n"
          ]
        }
      ]
    },
    {
      "cell_type": "markdown",
      "source": [
        "Convert & Extraction Text"
      ],
      "metadata": {
        "id": "rYbhg8N9hB0z"
      }
    },
    {
      "cell_type": "code",
      "source": [
        "from pdfminer.high_level import extract_text\n",
        "import os\n",
        "import re\n",
        "\n",
        "# Lokasi folder\n",
        "input_folder = 'data/pdf/'\n",
        "output_folder = 'data/convert/'  # jangan pakai '/' di depan kalau bukan root\n",
        "os.makedirs(output_folder, exist_ok=True)\n",
        "\n",
        "# Ambil semua file PDF\n",
        "pdf_files = [f for f in os.listdir(input_folder) if f.endswith(\".pdf\")]\n",
        "\n",
        "for idx, filename in enumerate(pdf_files, 1):\n",
        "    pdf_path = os.path.join(input_folder, filename)\n",
        "    text = extract_text(pdf_path)\n",
        "\n",
        "    # 1. Bersihkan dan gabungkan setiap baris dengan spasi\n",
        "    lines = [line.strip() for line in text.splitlines() if line.strip()]\n",
        "    combined = ' '.join(lines)\n",
        "\n",
        "    # 2. Sisipkan spasi di antara huruf kecil dan huruf kapital yang menempel (contoh: \"JiminTempat\")\n",
        "    combined = re.sub(r'([a-z])([A-Z])', r'\\1 \\2', combined)\n",
        "\n",
        "    # 3. Hilangkan spasi ganda akibat proses join\n",
        "    cleaned_text = re.sub(r'\\s{2,}', ' ', combined)\n",
        "\n",
        "    # Simpan hasil ekstraksi ke file .txt dengan nama putusan001.txt, dst.\n",
        "    output_path = os.path.join(output_folder, f\"putusan{idx:03}.txt\")\n",
        "    with open(output_path, \"w\", encoding=\"utf-8\") as f:\n",
        "        f.write(cleaned_text)"
      ],
      "metadata": {
        "id": "vpwwIaCqz3my"
      },
      "execution_count": null,
      "outputs": []
    },
    {
      "cell_type": "markdown",
      "source": [
        "Preprocessing"
      ],
      "metadata": {
        "id": "RHHONuIThHXV"
      }
    },
    {
      "cell_type": "code",
      "source": [
        "def clean_header_footer(text):\n",
        "    lines = text.splitlines()  # Pisah jadi list per baris\n",
        "    cleaned_lines = []\n",
        "\n",
        "    for line in lines:\n",
        "        # Hilangkan kata-kata target dari tiap baris\n",
        "        line = line.replace(\"Direktori Putusan Mahkamah Agung Republik Indonesia\", \"\")\n",
        "        line = line.replace(\"Mahkamah Agung Republik Indonesia\", \"\")\n",
        "        line = line.replace(\"putusan.mahkamahagung.go.id\", \"\")\n",
        "\n",
        "        # Hapus baris jika kosong setelah dibersihkan\n",
        "        if line.strip():  # cek jika masih ada isi\n",
        "            cleaned_lines.append(line.strip())\n",
        "\n",
        "    return '\\n'.join(cleaned_lines)"
      ],
      "metadata": {
        "id": "soedOLt6sAYV"
      },
      "execution_count": null,
      "outputs": []
    },
    {
      "cell_type": "code",
      "source": [
        "import re\n",
        "\n",
        "def clean_footer(text):\n",
        "    cleaned_text = re.sub(\n",
        "        r\"Disclaimer[\\s\\S]*?(Email\\s*:\\s*.+?[\\n\\r]+)?Telp\\s*:\\s*\\d{3}[-\\s]?\\d{3,4}(?:[-\\s]?\\d{3,4})?\\s*\\(ext[.]?\\s*\\d+\\)\",\n",
        "        \"\",\n",
        "        text,\n",
        "        flags=re.IGNORECASE\n",
        "    )\n",
        "    return cleaned_text.strip()"
      ],
      "metadata": {
        "id": "wNxJBBBGRDwG"
      },
      "execution_count": null,
      "outputs": []
    },
    {
      "cell_type": "code",
      "source": [
        "import re\n",
        "\n",
        "def clean_putusan_text(text):\n",
        "    # Bersihkan semua variasi \"Halaman X ...\" + Putusan Nomor ...\n",
        "    patterns = [\n",
        "        r'(?i)halaman\\s+\\d+\\s*/\\s*\\d+\\s+putusan\\s+nomor\\s+.*?Sby',\n",
        "        r'(?i)halaman\\s+\\d+\\s*/\\s*\\d+[,]?\\s+putusan\\s+nomor\\s+.*?Sby',\n",
        "        r'(?i)halaman\\s+\\d+\\s+dari\\s+\\d+\\s+putusan\\s+nomor\\s+.*?Sby',\n",
        "        r'(?i)halaman\\s+\\d+\\s+dari\\s+\\d+\\s+halaman\\s+putusan\\s+nomor\\s+.*?Sby',\n",
        "        r'(?i)hal\\s+\\d+\\s+dari\\s+\\d+\\s+hal\\s+putusan\\s+nomor\\s+.*?Sby',\n",
        "        r'(?i)hal\\s+\\d+\\s+dari\\s+\\d+\\s+hal[.]?\\s+putusan\\s+nomor\\s+.*?Sby',\n",
        "        r'(?i)halaman\\s+\\d+\\s+putusan\\s+nomor\\s+.*?Sby',\n",
        "        r'(?i)halaman\\s+\\d+\\s+dari\\s+\\d+\\s+halaman\\s+putusan\\s+nomor\\s*:?\\s+.*?Sby',\n",
        "        r'(?i)hal\\s+\\d+\\s+dari\\s+\\d+\\s+hal\\s+putusan\\s+nomor\\s+.*?Sby',\n",
        "    ]\n",
        "    for pattern in patterns:\n",
        "        text = re.sub(pattern, '', text, flags=re.IGNORECASE)\n",
        "\n",
        "    # Gabungkan \"P U T U S A N\" menjadi \"PUTUSAN\"\n",
        "    text = re.sub(r\"P\\s+U\\s+T\\s+U\\s+S\\s+A\\s+N\", \"PUTUSAN \", text, flags=re.IGNORECASE)\n",
        "\n",
        "    # Bersihkan spasi ganda & newline berlebihan\n",
        "    text = re.sub(r'[ \\t]{2,}', ' ', text)\n",
        "    text = re.sub(r'\\n{2,}', '\\n', text)\n",
        "\n",
        "    return text.strip()\n"
      ],
      "metadata": {
        "id": "z4dKvw24jMlS"
      },
      "execution_count": null,
      "outputs": []
    },
    {
      "cell_type": "code",
      "source": [
        "import re\n",
        "def normalize_text(text):\n",
        "    text = text.lower()                             # lowercase semua\n",
        "    text = re.sub(r'\\b(?:[a-zA-Z]\\s+){2,}[a-zA-Z]\\b', lambda m: m.group(0).replace(' ', ''), text)\n",
        "\n",
        "    # Ubah semua variasi tgl lahir → tanggal lahir\n",
        "    text = re.sub(r\"(?i)\\btgl[.\\s_]*lahir\\b\", \"tanggal lahir\", text)\n",
        "\n",
        "    # Ganti hanya 'nama' yang berdiri sendiri, tanpa mengubah 'nama lengkap'\n",
        "    text = re.sub(r\"(?i)\\bnama\\b(?!\\s+lengkap)\", \"nama lengkap\", text)\n",
        "\n",
        "\n",
        "    return text"
      ],
      "metadata": {
        "id": "cZOCIDkfK0Ps"
      },
      "execution_count": null,
      "outputs": []
    },
    {
      "cell_type": "code",
      "source": [
        "def clean_text_pipeline(text):\n",
        "    text = clean_header_footer(text)\n",
        "    text = clean_footer(text)\n",
        "    text = clean_putusan_text(text)\n",
        "\n",
        "    # Hapus semua \"Halaman X\"\n",
        "    text = re.sub(r\"(?i)\\bhalaman\\s*\\d+\\b\", \"\", text)\n",
        "\n",
        "    text = normalize_text(text)\n",
        "    return text"
      ],
      "metadata": {
        "id": "PpR4Api8RRRs"
      },
      "execution_count": null,
      "outputs": []
    },
    {
      "cell_type": "code",
      "source": [
        "import os\n",
        "\n",
        "input_path = \"data/convert/putusan_putusan_86_pid.sus-tpk_2024_pn_sby_20250618152925.txt\"\n",
        "output_path = \"data/raw/hasil1.txt\"\n",
        "\n",
        "# Pastikan folder output ada\n",
        "os.makedirs(os.path.dirname(output_path), exist_ok=True)\n",
        "\n",
        "# Baca isi file\n",
        "with open(input_path, \"r\", encoding=\"utf-8\") as f:\n",
        "    text = f.read()\n",
        "\n",
        "# Bersihkan teks\n",
        "cleaned_text = clean_text_pipeline(text)\n",
        "\n",
        "# Simpan hasilnya\n",
        "with open(output_path, \"w\", encoding=\"utf-8\") as f:\n",
        "    f.write(cleaned_text)"
      ],
      "metadata": {
        "id": "ah8ZM3YjmY_D"
      },
      "execution_count": null,
      "outputs": []
    },
    {
      "cell_type": "code",
      "source": [
        "import os\n",
        "\n",
        "input_folder = \"data/convert\"\n",
        "output_folder = \"data/raw\"\n",
        "\n",
        "# Pastikan folder output ada\n",
        "os.makedirs(output_folder, exist_ok=True)\n",
        "\n",
        "# Ambil semua file .txt dari folder input dan urutkan\n",
        "txt_files = sorted([f for f in os.listdir(input_folder) if f.endswith(\".txt\")])\n",
        "\n",
        "for i, filename in enumerate(txt_files, start=1):\n",
        "    input_path = os.path.join(input_folder, filename)\n",
        "\n",
        "    with open(input_path, \"r\", encoding=\"utf-8\") as f:\n",
        "        text = f.read()\n",
        "\n",
        "    # Bersihkan teks dengan pipeline\n",
        "    cleaned_text = clean_text_pipeline(text)\n",
        "\n",
        "    # Format nama file output: case_001.txt, case_002.txt, ...\n",
        "    output_filename = f\"case_{i:03}.txt\"\n",
        "    output_path = os.path.join(output_folder, output_filename)\n",
        "\n",
        "    with open(output_path, \"w\", encoding=\"utf-8\") as f:\n",
        "        f.write(cleaned_text)"
      ],
      "metadata": {
        "id": "78Da1t-pMYWO"
      },
      "execution_count": null,
      "outputs": []
    }
  ]
}
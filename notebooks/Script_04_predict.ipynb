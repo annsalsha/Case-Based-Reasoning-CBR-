{
  "nbformat": 4,
  "nbformat_minor": 0,
  "metadata": {
    "colab": {
      "provenance": []
    },
    "kernelspec": {
      "name": "python3",
      "display_name": "Python 3"
    },
    "language_info": {
      "name": "python"
    }
  },
  "cells": [
    {
      "cell_type": "code",
      "source": [
        "import pandas as pd\n",
        "import json\n",
        "\n",
        "df = pd.read_json(\"data/processed/cases.json\")\n",
        "\n",
        "# Buat mapping case_id → amar_putusan\n",
        "case_solutions = {\n",
        "    row[\"case_id\"]: row[\"amar_putusan\"]\n",
        "    for _, row in df.iterrows()\n",
        "}"
      ],
      "metadata": {
        "id": "dHSDZkDFz4_p"
      },
      "execution_count": null,
      "outputs": []
    },
    {
      "cell_type": "code",
      "source": [
        "from collections import Counter\n",
        "\n",
        "def predict_outcome(query: str, k: int = 5) -> str:\n",
        "    top_k = retrieve(query, k=k)\n",
        "    solutions = [case_solutions.get(c, \"\") for c in top_k]\n",
        "\n",
        "    # Majority vote\n",
        "    most_common = Counter(solutions).most_common(1)\n",
        "    predicted_solution = most_common[0][0] if most_common else \"\"\n",
        "\n",
        "    return predicted_solution"
      ],
      "metadata": {
        "id": "pPshOU4b2tit"
      },
      "execution_count": null,
      "outputs": []
    },
    {
      "cell_type": "code",
      "source": [
        "import pandas as pd\n",
        "import json\n",
        "import os\n",
        "\n",
        "# Load queries\n",
        "with open(\"data/eval/queries.json\") as f:\n",
        "    test_queries = json.load(f)\n",
        "\n",
        "# Jalankan prediksi\n",
        "results = []\n",
        "for q in test_queries:\n",
        "    pred_sol = predict_outcome(q['text'])\n",
        "    top_k = retrieve(q['text'], k=5)\n",
        "\n",
        "    results.append({\n",
        "        \"query_id\": q['query_id'],\n",
        "        \"predicted_solution\": pred_sol,\n",
        "        \"top_5_case_ids\": top_k\n",
        "    })\n",
        "\n",
        "# Simpan ke CSV\n",
        "df_preds = pd.DataFrame(results)\n",
        "\n",
        "# Buat folder 'data/results' jika belum ada\n",
        "os.makedirs(\"data/results\", exist_ok=True)\n",
        "df_preds.to_csv(\"data/results/predictions.csv\", index=False)"
      ],
      "metadata": {
        "id": "WWJfHfk52v1J"
      },
      "execution_count": null,
      "outputs": []
    },
    {
      "cell_type": "code",
      "source": [
        "# perbandingan prediksi dan putusan sebenarnya\n",
        "for q in test_queries[:5]:\n",
        "    query = q[\"text\"]\n",
        "    predicted = predict_outcome(query)\n",
        "    true_case_id = q[\"true_case_id\"]\n",
        "    true_solution = case_solutions[true_case_id]\n",
        "\n",
        "    print(f\"\\nQuery ID       : {q['query_id']}\")\n",
        "    print(f\"Predicted      : {predicted}\")\n",
        "    print(f\"Ground Truth   : {true_solution}\")\n"
      ],
      "metadata": {
        "colab": {
          "base_uri": "https://localhost:8080/"
        },
        "id": "Wm78jeEK3vhH",
        "outputId": "e6a64701-6bdb-42cc-cf43-c58e22703609"
      },
      "execution_count": null,
      "outputs": [
        {
          "output_type": "stream",
          "name": "stdout",
          "text": [
            "\n",
            "Query ID       : 0\n",
            "Predicted      : menyatakan terdakwa mustaqim, s.t. bin muslimin hag (alm) tersebutdi atas, tidak terbukti secara sah dan meyakinkan bersalah melakukan tindakpidana korupsi secara bersama-sama dan berlanjut sebagaimana dalamdakwaan primair. Selain itu, menyatakan terdakwa dibebaskan dari dakwaan primair tersebut. Selanjutnya, menyatakan terdakwa mustaqim, s.t. bin muslimin hag (alm) tersebutdi atas, telah terbukti secara sah dan meyakinkan bersalah melakukan tindakpidana korupsi secara bersama-sama dan berlanjut sebagaimana dalamdakwaan subsidair. Terakhir, menjatuhkan pidana terhadap terdakwa oleh karena itu dengan pidanapenjara selama 2 (dua) tahun dan 6 (enam) bulan serta denda sejumlah rp100. 000. 000,00 (seratus juta rupiah) dengan ketentuan apabila denda tidakdibayar dapat diganti dengan pidana kurungan selama 3 (tiga) bulan.\n",
            "Ground Truth   : menyatakan terdakwa ulis dewi purwanti,s.pd. terbukti secara sah danmeyakinkan bersalah melakukan “tindak pidana korupsi secara bersama-sama” sebagaimana dalam dakwaan alternatif kedua penuntut umum. Selain itu, menjatuhkan pidana penjara kepada terdakwa oleh karena itu selama 1 (satu)tahun 9 (sembilan) bulan, dan pidana denda sebesar rp50. 000. 000,00 ( limapuluh juta rupiah ) dengan ketentuan apabila denda tersebut tidak dibayardiganti dengan pidana kurungan selama 1 (satu) bulan. Selanjutnya, menghukum terdakwa untuk membayar uang pengganti sejumlah rp89. 925. 000,00 (delapan puluh sembilan juta sembilan ratus dua puluh limaribu rupiah) dirampas untuk negara selanjutnya dikembalikan kepada 51 (limapuluh satu) saksi korban pungutan liar di desa kletek kecamatan taman kabupaten sidoarjo secara proporsional, paling lama dalam 1 (satu) bulansesudah putusan ini berkekuatan hukum tetap, jika tidak membayar makaharta bendanya disita dan dilelang oleh jaksa untuk menutupi uang penggantitersebut dengan ketentuan apabila terpidana tidak mempunyai harta bendayang mencukupi maka dipidana dengan pidana penjara selama 6 ( enam )bulan. Terakhir, menetapkan masa penahanan yang telah dijalani oleh terdakwa dikurangkansepenuhnya dari pidana penjara yang dijatuhkan.\n",
            "\n",
            "Query ID       : 1\n",
            "Predicted      : menyatakan terdakwa mohammad juhar bin h. muhammad nor(alm.) tersebut di atas tidak terbukti secara sah dan meyakinkan bersalahmelakukan tindak pidana sebagaimana didakwakan dalam dakwaan primair. Selain itu, membebaskan terdakwa oleh karena itu dari dakwaan primair tersebut. Selanjutnya, menyatakan terdakwa mohammad juhar bin h. muhammad nor(alm.) tersebut di atas terbukti secara sah dan meyakinkan bersalahmelakukan tindak pidana korupsi secara bersama-sama sebagaimanadalam dakwaan subsidair. Terakhir, menjatuhkan pidana kepada terdakwa oleh karena itu dengan pidanapenjara selama 1 (satu) tahun dan pidana denda sejumlah rp50. 000. 000,00(lima puluh juta rupiah) dengan ketentuan apabila pidana denda tersebuttidak dibayar, maka diganti dengan pidana kurungan selama 1 (satu) bulan.\n",
            "Ground Truth   : menyatakan terdakwa sofrowi bin h. marhafi (alm.) tersebut di atastidak terbukti secara sah dan meyakinkan bersalah melakukan tindak pidanasebagaimana didakwakan dalam dakwaan primair. Selain itu, membebaskan terdakwa oleh karena itu dari dakwaan primair tersebut. Selanjutnya, menyatakan terdakwa sofrowi bin h. marhafi (alm.) tersebut di atasterbukti secara sah dan meyakinkan bersalah melakukan tindak pidanakorupsi secara bersama-sama sebagaimana dalam dakwaan subsidair. Terakhir, menjatuhkan pidana kepada terdakwa oleh karena itu dengan pidanapenjara selama 1 (satu) tahun dan pidana denda sejumlah rp50. 000. 000,00(lima puluh juta rupiah) dengan ketentuan apabila pidana denda tersebuttidak dibayar, maka diganti dengan pidana kurungan selama 1 (satu) bulan.\n",
            "\n",
            "Query ID       : 2\n",
            "Predicted      : menyatakan terdakwa mustaqim, s.t. bin muslimin hag (alm) tersebutdi atas, tidak terbukti secara sah dan meyakinkan bersalah melakukan tindakpidana korupsi secara bersama-sama dan berlanjut sebagaimana dalamdakwaan primair. Selain itu, menyatakan terdakwa dibebaskan dari dakwaan primair tersebut. Selanjutnya, menyatakan terdakwa mustaqim, s.t. bin muslimin hag (alm) tersebutdi atas, telah terbukti secara sah dan meyakinkan bersalah melakukan tindakpidana korupsi secara bersama-sama dan berlanjut sebagaimana dalamdakwaan subsidair. Terakhir, menjatuhkan pidana terhadap terdakwa oleh karena itu dengan pidanapenjara selama 2 (dua) tahun dan 6 (enam) bulan serta denda sejumlah rp100. 000. 000,00 (seratus juta rupiah) dengan ketentuan apabila denda tidakdibayar dapat diganti dengan pidana kurungan selama 3 (tiga) bulan.\n",
            "Ground Truth   : menyatakan terdakwa tria natalina, s.e., m.ba terbukti secara sah dan meyakinkan bersalah melakukan tindak pidana korupsi secara bersama-sama sebagaimana dalam dakwaan primair penuntut umum. Selain itu, menjatuhkan pidana kepada terdakwa oleh karena itu, dengan pidana penjara selama 12 (dua belas) tahun dan pidana denda sejumlah rp.500. 000. 000,00 (lima ratus juta rupiah), dengan ketentuan apabila denda tersebut tidak dibayar diganti dengan pidana kurungan selama 6 (enam) bulan. Selanjutnya, menghukum terdakwa tria natalina, s.e., m.ba untuk membayar uang pengganti sejumlah rp18. 550. 000. 000,00 (delapan belas miliar lima ratus lima puluh juta rupiah) dan usd $265. 300 (dua ratus enam puluh lima ribu tiga ratus dollar amerika serikat, paling lama dalam waktu satu bulan sesudah putusan ini berkekuatan hukum tetap, jika tidak membayar maka harta bendanya disita dan dilelang oleh jaksa untuk menutupi uang pengganti tersebut dengan ketentuan apabila terpidana tidak mempunyai harta benda yang mencukupi maka dipidana dengan pidana penjara selama 6 (enam) tahun. Terakhir, menetapkan masa penangkapan dan penahanan yang telah dijalani terdakwa dikurangkan seluruhnya dari pidana yang dijatuhkan.\n",
            "\n",
            "Query ID       : 3\n",
            "Predicted      : menyatakan terdakwa wasito bin wijitersebut di atas, terbukti secara sahdan meyakinkan bersalah melakukan tindak pidana korupsi secara bersama-sama sebagaimana dalam dakwaan primair. Selain itu, menjatuhkan pidana kepada terdakwa oleh karena itu dengan pidana penjaraselama 4 (empat) tahun dan pidana denda sejumlah rp200. 000. 000,00 (duaratus juta rupiah) dengan ketentuan apabila pidana denda tersebut tidakdibayar, maka diganti dengan pidana kurungan selama 3 (tiga) bulan. Selanjutnya, menetapkan masa penangkapan dan penahanan yang telah dijalani terdakwa dikurangkan seluruhnya dari pidana yang dijatuhkan. Terakhir, menetapkan terdakwa tetap ditahan.\n",
            "Ground Truth   : menyatakan terdakwa wasito bin wijitersebut di atas, terbukti secara sahdan meyakinkan bersalah melakukan tindak pidana korupsi secara bersama-sama sebagaimana dalam dakwaan primair. Selain itu, menjatuhkan pidana kepada terdakwa oleh karena itu dengan pidana penjaraselama 4 (empat) tahun dan pidana denda sejumlah rp200. 000. 000,00 (duaratus juta rupiah) dengan ketentuan apabila pidana denda tersebut tidakdibayar, maka diganti dengan pidana kurungan selama 3 (tiga) bulan. Selanjutnya, menetapkan masa penangkapan dan penahanan yang telah dijalani terdakwa dikurangkan seluruhnya dari pidana yang dijatuhkan. Terakhir, menetapkan terdakwa tetap ditahan.\n",
            "\n",
            "Query ID       : 4\n",
            "Predicted      : menyatakan terdakwa sumaiyah alias ummiyeh binti saruji tersebut diatas, terbukti secara sah dan meyakinkan bersalah melakukan tindak pidana korupsi secara bersama-sama sebagai perbuatan berlanjutsebagaimana dakwaan primair. Selain itu, menjatuhkan pidana kepada terdakwa oleh karena itu dengan pidanapenjara selama 7 (tujuh) tahun 6 (enam) bulan dan pidana dendasejumlah rp300. 000. 000,- (tiga ratus juta rupiah) dengan ketentuan apabilapidana denda tersebut tidak dibayar, maka diganti dengan pidana kurunganselama 5 (lima) bulan. Selanjutnya, menjatuhkan pidana tambahan kepada terdakwa untuk membayar uangpengganti sebesar rp1. 766. 463. 557,- (satu milyar tujuh ratus enampuluh enam juta empat ratus enam puluh tiga ribu lima ratus limapuluh tujuh rupiah), jika terpidana tidak membayar uang pengganti palinglama dalam waktu 1 (satu) bulan sesudah putusan pengadilan yang telahmemperoleh kekuatan hukum tetap, maka harta bendanya dapat disita oleh jaksa dan dilelang untuk menutupi uang pengganti tersebut, dalam hal terpidana tidak mempunyai harta benda yang mencukupi untuk membayaruang pengganti, maka dipidana dengan pidana penjara selama 4 (empat)tahun. Terakhir, menetapkan masa penahanan yang telah dijalani terdakwa dikurangkanseluruhnya dari pidana yang dijatuhkan.\n",
            "Ground Truth   : menyatakan terdakwa sumaiyah alias ummiyeh binti saruji tersebut diatas, terbukti secara sah dan meyakinkan bersalah melakukan tindak pidana korupsi secara bersama-sama sebagai perbuatan berlanjutsebagaimana dakwaan primair. Selain itu, menjatuhkan pidana kepada terdakwa oleh karena itu dengan pidanapenjara selama 7 (tujuh) tahun 6 (enam) bulan dan pidana dendasejumlah rp300. 000. 000,- (tiga ratus juta rupiah) dengan ketentuan apabilapidana denda tersebut tidak dibayar, maka diganti dengan pidana kurunganselama 5 (lima) bulan. Selanjutnya, menjatuhkan pidana tambahan kepada terdakwa untuk membayar uangpengganti sebesar rp1. 766. 463. 557,- (satu milyar tujuh ratus enampuluh enam juta empat ratus enam puluh tiga ribu lima ratus limapuluh tujuh rupiah), jika terpidana tidak membayar uang pengganti palinglama dalam waktu 1 (satu) bulan sesudah putusan pengadilan yang telahmemperoleh kekuatan hukum tetap, maka harta bendanya dapat disita oleh jaksa dan dilelang untuk menutupi uang pengganti tersebut, dalam hal terpidana tidak mempunyai harta benda yang mencukupi untuk membayaruang pengganti, maka dipidana dengan pidana penjara selama 4 (empat)tahun. Terakhir, menetapkan masa penahanan yang telah dijalani terdakwa dikurangkanseluruhnya dari pidana yang dijatuhkan.\n"
          ]
        }
      ]
    }
  ]
}